{
 "cells": [
  {
   "cell_type": "code",
   "execution_count": null,
   "id": "0",
   "metadata": {},
   "outputs": [],
   "source": [
    "# IMPORTS\n",
    "import numpy as np\n",
    "import pandas as pd\n",
    "\n",
    "#Fin Data Sources\n",
    "import yfinance as yf\n",
    "import pandas_datareader as pdr\n",
    "\n",
    "#Data viz\n",
    "import plotly.graph_objs as go\n",
    "import plotly.express as px\n",
    "\n",
    "import time\n",
    "from datetime import date"
   ]
  },
  {
   "cell_type": "markdown",
   "id": "1",
   "metadata": {},
   "source": [
    "# Understanding  datadriven Decisions data pulls"
   ]
  },
  {
   "cell_type": "code",
   "execution_count": null,
   "id": "2",
   "metadata": {},
   "outputs": [],
   "source": [
    "\n",
    "end = date.today()\n",
    "print(f'Year = {end.year}; month= {end.month}; day={end.day}')\n",
    "\n",
    "start = date(year=end.year-70, month=end.month, day=end.day)\n",
    "print(f'Period for indexes: {start} to {end} ')"
   ]
  },
  {
   "cell_type": "markdown",
   "id": "3",
   "metadata": {},
   "source": [
    "# DGP"
   ]
  },
  {
   "cell_type": "code",
   "execution_count": null,
   "id": "4",
   "metadata": {},
   "outputs": [],
   "source": [
    "# Real Potential Gross Domestic Product (GDPPOT), Billions of Chained 2012 Dollars, QUARTERLY\n",
    "# https://fred.stlouisfed.org/series/GDPPOT\n",
    "gdppot = pdr.DataReader(\"GDPPOT\", \"fred\", start=start)\n",
    "     "
   ]
  },
  {
   "cell_type": "code",
   "execution_count": null,
   "id": "5",
   "metadata": {},
   "outputs": [],
   "source": [
    "gdppot['gdppot_us_yoy'] = gdppot.GDPPOT/gdppot.GDPPOT.shift(4)-1\n",
    "gdppot['gdppot_us_qoq'] = gdppot.GDPPOT/gdppot.GDPPOT.shift(1)-1\n",
    "gdppot.tail(15)"
   ]
  },
  {
   "cell_type": "code",
   "execution_count": null,
   "id": "6",
   "metadata": {},
   "outputs": [],
   "source": [
    "# Visuals GDPPOT\n",
    "# https://cmdlinetips.com/2019/10/how-to-make-a-plot-with-two-different-y-axis-in-python-with-matplotlib/\n",
    "\n",
    "import matplotlib.pyplot as plt\n",
    "import matplotlib.ticker as mtick\n",
    "\n",
    "fig, ax = plt.subplots(figsize=(20, 6))\n",
    "plt.grid(True)\n",
    "\n",
    "# Plotting area under US potential GDP curve\n",
    "ax.fill_between(gdppot.index, gdppot.GDPPOT, color=\"red\", alpha=0.3, label=\"US Potential GDP\")\n",
    "\n",
    "# Creating a secondary y-axis for GDP growth percentage\n",
    "ax2 = ax.twinx()\n",
    "ax2.yaxis.set_major_formatter(mtick.PercentFormatter(1.0))\n",
    "ax2.plot(gdppot.gdppot_us_yoy, color=\"blue\", marker=\"o\", label=\"US Potential GDP Growth, % Y/Y\")\n",
    "\n",
    "# Setting labels and title\n",
    "ax.set_xlabel(\"Date\", fontsize=14)\n",
    "ax.set_ylabel(\"US Potential GDP, $b\", color=\"red\", fontsize=14)\n",
    "ax2.set_ylabel(\"US Potential GDP Growth, % Y/Y\", color=\"blue\", fontsize=14)\n",
    "\n",
    "# Adding legend\n",
    "lines, labels = ax.get_legend_handles_labels()\n",
    "lines2, labels2 = ax2.get_legend_handles_labels()\n",
    "ax2.legend(lines + lines2, labels + labels2, loc='upper left')\n",
    "\n",
    "plt.show()"
   ]
  },
  {
   "cell_type": "code",
   "execution_count": null,
   "id": "7",
   "metadata": {},
   "outputs": [],
   "source": [
    "# # \"Core CPI index\", MONTHLY\n",
    "# https://fred.stlouisfed.org/series/CPILFESL\n",
    "# The \"Consumer Price Index for All Urban Consumers: All Items Less Food & Energy\"\n",
    "# is an aggregate of prices paid by urban consumers for a typical basket of goods, excluding food and energy.\n",
    "# This measurement, known as \"Core CPI,\" is widely used by economists because food and energy have very volatile prices.\n",
    "cpilfesl = pdr.DataReader(\"CPILFESL\", \"fred\", start=start)"
   ]
  },
  {
   "cell_type": "code",
   "execution_count": null,
   "id": "8",
   "metadata": {},
   "outputs": [],
   "source": [
    "cpilfesl['cpi_core_yoy'] = cpilfesl.CPILFESL/cpilfesl.CPILFESL.shift(12)-1\n",
    "cpilfesl['cpi_core_mom'] = cpilfesl.CPILFESL/cpilfesl.CPILFESL.shift(1)-1\n",
    "\n",
    "cpilfesl.tail(13)"
   ]
  },
  {
   "cell_type": "code",
   "execution_count": null,
   "id": "9",
   "metadata": {},
   "outputs": [],
   "source": [
    "fig, ax = plt.subplots(figsize=(20, 6))\n",
    "plt.grid(True)\n",
    "\n",
    "# Plotting area under CPI\n",
    "ax.fill_between(cpilfesl.index, cpilfesl.CPILFESL, color=\"red\", alpha=0.3, label=\"Core CPI index (monthly)\")\n",
    "\n",
    "# Creating a secondary y-axis for CPI growth percentage\n",
    "ax2 = ax.twinx()\n",
    "ax2.yaxis.set_major_formatter(mtick.PercentFormatter(1.0))\n",
    "ax2.plot(cpilfesl.cpi_core_yoy, color=\"blue\", marker=\"o\", label=\"Core CPI index (monthly) Growth, % Y/Y\")\n",
    "\n",
    "# Setting labels and title\n",
    "ax.set_xlabel(\"Date\", fontsize=14)\n",
    "ax.set_ylabel(\"Core CPI index (monthly)\", color=\"red\", fontsize=14)\n",
    "ax2.set_ylabel(\"Core CPI index Growth, % Y/Y\", color=\"blue\", fontsize=14)\n",
    "\n",
    "# Adding legend\n",
    "lines, labels = ax.get_legend_handles_labels()\n",
    "lines2, labels2 = ax2.get_legend_handles_labels()\n",
    "ax2.legend(lines + lines2, labels + labels2, loc='upper left')\n",
    "\n",
    "plt.show()"
   ]
  },
  {
   "cell_type": "code",
   "execution_count": null,
   "id": "10",
   "metadata": {},
   "outputs": [],
   "source": [
    "# Fed rate https://fred.stlouisfed.org/series/FEDFUNDS\n",
    "fedfunds = pdr.DataReader(\"FEDFUNDS\", \"fred\", start=start)\n",
    "fedfunds.tail(10)"
   ]
  },
  {
   "cell_type": "code",
   "execution_count": null,
   "id": "11",
   "metadata": {},
   "outputs": [],
   "source": [
    "\n",
    "# Fed Funds\n",
    "fig, ax = plt.subplots(figsize=(20, 6))\n",
    "plt.grid(True)\n",
    "\n",
    "# Plotting area under US potential GDP curve\n",
    "# ax.fill_between(fedfunds.index, fedfunds.FEDFUNDS, color=\"red\", alpha=0.3, label=\"Core CPI index (monthly)\")\n",
    "\n",
    "# # Creating a secondary y-axis for GDP growth percentage\n",
    "# ax2 = ax.twinx()\n",
    "ax.yaxis.set_major_formatter(mtick.PercentFormatter(1.0))\n",
    "ax.plot(fedfunds.index, fedfunds.FEDFUNDS/100, marker=\"o\", label=\"Fed Funds Rate\")\n",
    "\n",
    "# Setting labels and title\n",
    "ax.set_xlabel(\"Date\", fontsize=14)\n",
    "ax.set_ylabel(\"Fed Funds Rate\", color=\"blue\", fontsize=14)\n",
    "\n",
    "# Adding legend\n",
    "lines, labels = ax.get_legend_handles_labels()\n",
    "ax.legend(lines, labels, loc='upper left')\n",
    "\n",
    "plt.show()"
   ]
  },
  {
   "cell_type": "code",
   "execution_count": null,
   "id": "12",
   "metadata": {},
   "outputs": [],
   "source": [
    "\n",
    "# https://fred.stlouisfed.org/series/DGS1\n",
    "dgs1 = pdr.DataReader(\"DGS1\", \"fred\", start=start)\n",
    "dgs1.tail()"
   ]
  },
  {
   "cell_type": "markdown",
   "id": "13",
   "metadata": {},
   "source": [
    "Other rates for US Treasury: https://fred.stlouisfed.org/categories/115\n",
    "\n",
    "https://fred.stlouisfed.org/series/DGS2\n",
    "https://fred.stlouisfed.org/series/DGS3\n",
    "https://fred.stlouisfed.org/series/DGS5\n",
    "https://fred.stlouisfed.org/series/DGS10 ..."
   ]
  },
  {
   "cell_type": "code",
   "execution_count": null,
   "id": "14",
   "metadata": {},
   "outputs": [],
   "source": [
    "# https://fred.stlouisfed.org/series/DGS5\n",
    "dgs5 = pdr.DataReader(\"DGS5\", \"fred\", start=start)\n",
    "dgs5.tail()\n",
    "     "
   ]
  },
  {
   "cell_type": "code",
   "execution_count": null,
   "id": "15",
   "metadata": {},
   "outputs": [],
   "source": [
    "# Other indexes: https://stooq.com/t/\n",
    "\n",
    "# SPX= S&P500\n",
    "spx_index = pdr.get_data_stooq('^SPX', start, end)\n",
    "spx_index.head()"
   ]
  },
  {
   "cell_type": "code",
   "execution_count": null,
   "id": "16",
   "metadata": {},
   "outputs": [],
   "source": [
    "# 252 trading days a year\n",
    "  # REVERSE ORDER OF THE DATA!!!\n",
    "spx_index['spx_dod'] = (spx_index.Close/spx_index.Close.shift(-1)-1)\n",
    "spx_index['spx_qoq'] = (spx_index.Close/spx_index.Close.shift(-63)-1)\n",
    "spx_index['spx_yoy'] = (spx_index.Close/spx_index.Close.shift(-252)-1)\n",
    "spx_index.head()"
   ]
  },
  {
   "cell_type": "code",
   "execution_count": null,
   "id": "17",
   "metadata": {},
   "outputs": [],
   "source": [
    "spx_truncated = spx_index[spx_index.index>='1990-01-01']"
   ]
  },
  {
   "cell_type": "code",
   "execution_count": null,
   "id": "18",
   "metadata": {},
   "outputs": [],
   "source": [
    "# S&P500 abs. vs. relative growth\n",
    "fig, ax = plt.subplots(figsize=(20, 6))\n",
    "plt.grid(True)\n",
    "\n",
    "# Plotting area under CPI\n",
    "ax.fill_between(spx_truncated.index, spx_truncated.Close, color=\"red\", alpha=0.3, label=\"S&P 500 Absolute Value (Close price)\")\n",
    "\n",
    "# Creating a secondary y-axis for CPI growth percentage\n",
    "ax2 = ax.twinx()\n",
    "ax2.yaxis.set_major_formatter(mtick.PercentFormatter(1.0))\n",
    "ax2.plot(spx_truncated.spx_yoy,\n",
    "         color=\"blue\",\n",
    "        #  marker=\".\",\n",
    "         label=\"Year-over-Year Growth (%)\")\n",
    "\n",
    "# Setting labels and title\n",
    "ax.set_xlabel(\"Date\", fontsize=14)\n",
    "ax.set_ylabel(\"S&P 500 Absolute Value (Close price\", color=\"red\", fontsize=14)\n",
    "ax2.set_ylabel(\"Year-over-Year Growth (%)\", color=\"blue\", fontsize=14)\n",
    "\n",
    "# Adding legend\n",
    "lines, labels = ax.get_legend_handles_labels()\n",
    "lines2, labels2 = ax2.get_legend_handles_labels()\n",
    "ax2.legend(lines + lines2, labels + labels2, loc='upper left')\n",
    "\n",
    "plt.show()"
   ]
  },
  {
   "cell_type": "markdown",
   "id": "19",
   "metadata": {},
   "source": [
    "2) Data Sources for Stocks\n",
    "2.1 OHLCV data daily - INDEXES"
   ]
  },
  {
   "cell_type": "code",
   "execution_count": null,
   "id": "20",
   "metadata": {},
   "outputs": [],
   "source": [
    "# INDEXES from Yahoo Finance\n",
    "# DAX index (XETRA - XETRA Delayed Price. Currency in EUR)\n",
    "# WEB: https://finance.yahoo.com/quote/%5EGDAXI\n",
    "# Option 1: dax_daily = yf.download(tickers = [\"^GDAXI\"],\n",
    "#                      period = \"max\",\n",
    "#                      interval = \"1d\")\n",
    "\n",
    "# Option 2 (preferred):\n",
    "# Download data with Adj Close for more accurate price reflections\n",
    "ticker_obj = yf.Ticker(\"^GDAXI\")\n",
    "dax_daily = ticker_obj.history(start = start)"
   ]
  },
  {
   "cell_type": "code",
   "execution_count": null,
   "id": "21",
   "metadata": {},
   "outputs": [],
   "source": [
    "dax_daily.tail()"
   ]
  },
  {
   "cell_type": "code",
   "execution_count": null,
   "id": "22",
   "metadata": {},
   "outputs": [],
   "source": [
    "# normally 252 trading days\n",
    "dax_daily['adj_close_last_year'] = dax_daily['Close'].shift(252)\n",
    "dax_daily['yoy_growth'] = dax_daily['Close'] / dax_daily['adj_close_last_year'] -1"
   ]
  },
  {
   "cell_type": "code",
   "execution_count": null,
   "id": "23",
   "metadata": {},
   "outputs": [],
   "source": [
    "dax_daily['Close'].plot.line()"
   ]
  },
  {
   "cell_type": "code",
   "execution_count": null,
   "id": "24",
   "metadata": {},
   "outputs": [],
   "source": [
    "\n",
    "# delayed 15 min : https://finance.yahoo.com/quote/%5ESPX/\n",
    "# S&P 500 INDEX : Chicago Options - Chicago Options Delayed Price. Currency in USD\n",
    "ticker_obj = yf.Ticker(\"^SPX\")\n",
    "snp500_daily = ticker_obj.history(start = start, interval = \"1d\")\n",
    "\n",
    "# old version:\n",
    "# snp500_daily = yf.download(tickers = \"^SPX\",\n",
    "#                      period = \"max\",\n",
    "#                      interval = \"1d\")"
   ]
  },
  {
   "cell_type": "code",
   "execution_count": null,
   "id": "25",
   "metadata": {},
   "outputs": [],
   "source": [
    "\n",
    "# https://finance.yahoo.com/quote/%5EGSPC/\n",
    "# SNP - SNP Real Time Price. Currency in USD\n",
    "# https://www.investopedia.com/insights/introduction-to-stock-market-indices/\n",
    "\n",
    "ticker_obj = yf.Ticker(\"^GSPC\")\n",
    "snp500_daily_non_delayed = ticker_obj.history(start = start, interval = \"1d\")\n",
    "\n",
    "# old version:\n",
    "# snp500_daily_non_delayed = yf.download(tickers = \"^GSPC\",\n",
    "#                      period = \"max\",\n",
    "#                      interval = \"1d\")"
   ]
  },
  {
   "cell_type": "code",
   "execution_count": null,
   "id": "26",
   "metadata": {},
   "outputs": [],
   "source": [
    "# Dow Jones Industrial Average: https://finance.yahoo.com/quote/%5EDJI?.tsrc=fin-srch\n",
    "\n",
    "ticker_obj = yf.Ticker(\"^DJI\")\n",
    "dji_daily = ticker_obj.history(start = start, interval = \"1d\")\n",
    "\n",
    "# dji_daily = yf.download(tickers = \"^DJI\",\n",
    "#                      period = \"max\",\n",
    "#                      interval = \"1d\") "
   ]
  },
  {
   "cell_type": "markdown",
   "id": "27",
   "metadata": {},
   "source": [
    "2.2 OHLCV data daily - ETFs"
   ]
  },
  {
   "cell_type": "code",
   "execution_count": null,
   "id": "28",
   "metadata": {},
   "outputs": [],
   "source": [
    "\n",
    "# https://finance.yahoo.com/quote/VOO?.tsrc=fin-srch\n",
    "\n",
    "ticker_obj = yf.Ticker(\"VOO\")\n",
    "voo_etf = ticker_obj.history(start = start, interval = \"1d\")\n",
    "\n",
    "# voo_etf = yf.download(tickers = \"VOO\",\n",
    "#                      period = \"max\",\n",
    "#                      interval = \"1d\")\n",
    "\n",
    "\n",
    "voo_etf.tail()"
   ]
  },
  {
   "cell_type": "code",
   "execution_count": null,
   "id": "29",
   "metadata": {},
   "outputs": [],
   "source": [
    "# ETFs\n",
    "# WisdomTree India Earnings Fund (EPI)\n",
    "# NYSEArca - Nasdaq Real Time Price. Currency in USD\n",
    "# WEB: https://finance.yahoo.com/quote/EPI/history?p=EPI\n",
    "\n",
    "ticker_obj = yf.Ticker(\"EPI\")\n",
    "epi_etf_daily = ticker_obj.history(start = start, interval = \"1d\")\n",
    "\n",
    "# epi_etf_daily = yf.download(tickers = \"EPI\",\n",
    "#                      period = \"max\",\n",
    "#                      interval = \"1d\")\n",
    "epi_etf_daily.head()\n",
    "print(epi_etf_daily.shape)"
   ]
  },
  {
   "cell_type": "code",
   "execution_count": null,
   "id": "30",
   "metadata": {},
   "outputs": [],
   "source": [
    "# find dividends impact on Close vs. Adj.Close\n",
    "epi_etf_daily[epi_etf_daily.Dividends>0].tail()"
   ]
  },
  {
   "cell_type": "code",
   "execution_count": null,
   "id": "31",
   "metadata": {},
   "outputs": [],
   "source": [
    "epi_etf_daily[(epi_etf_daily.index >='2024-12-23') & (epi_etf_daily.index <='2024-12-28')]"
   ]
  },
  {
   "cell_type": "code",
   "execution_count": null,
   "id": "32",
   "metadata": {},
   "outputs": [],
   "source": [
    "# find dividends - diff for Close vs. Adj Close\n",
    "# Open/Close for 06-25 diff is close to divs = 1.845 (~1.58 for Open and 1.3 for Close)\n",
    "# HELP: https://help.yahoo.com/kb/SLN28256.html#:~:text=Adjusted%20close%20is%20the%20closing,Security%20Prices%20(CRSP)%20standards.\n",
    "epi_etf_daily[(epi_etf_daily.index >='2024-12-23') & (epi_etf_daily.index <='2024-12-28')]"
   ]
  },
  {
   "cell_type": "code",
   "execution_count": null,
   "id": "33",
   "metadata": {},
   "outputs": [],
   "source": [
    "# Previous option : no Div. dates , same stats\n",
    "epi_etf_daily2 = yf.download(tickers = \"EPI\",\n",
    "                     period = \"max\",\n",
    "                     interval = \"1d\")"
   ]
  },
  {
   "cell_type": "code",
   "execution_count": null,
   "id": "34",
   "metadata": {},
   "outputs": [],
   "source": [
    "epi_etf_daily2[epi_etf_daily2.index>='2024-12-23'].head()"
   ]
  },
  {
   "cell_type": "code",
   "execution_count": null,
   "id": "35",
   "metadata": {},
   "outputs": [],
   "source": [
    "# About yFinance: https://zoo.cs.yale.edu/classes/cs458/lectures/yfinance.html\n",
    "\n",
    "epi_etf_daily['Close'].plot(title=\"EPI's etf stock price\")"
   ]
  },
  {
   "cell_type": "code",
   "execution_count": null,
   "id": "36",
   "metadata": {},
   "outputs": [],
   "source": [
    "\n",
    "\n",
    "# get actions, incl. dividends - as a dataFrame\n",
    "epi = yf.Ticker('EPI')\n",
    "epi.get_actions()"
   ]
  },
  {
   "cell_type": "code",
   "execution_count": null,
   "id": "37",
   "metadata": {},
   "outputs": [],
   "source": [
    "# get dividends as Series\n",
    "epi.get_dividends()"
   ]
  },
  {
   "cell_type": "code",
   "execution_count": null,
   "id": "38",
   "metadata": {},
   "outputs": [],
   "source": [
    "# India's stock example\n",
    "# https://www.nseindia.com/market-data/live-equity-market\n",
    "EICHERMOT = yf.download(tickers = \"EICHERMOT.NS\",\n",
    "                     period = \"max\",\n",
    "                     interval = \"1d\")"
   ]
  },
  {
   "cell_type": "code",
   "execution_count": null,
   "id": "39",
   "metadata": {},
   "outputs": [],
   "source": [
    "EICHERMOT"
   ]
  },
  {
   "cell_type": "code",
   "execution_count": null,
   "id": "40",
   "metadata": {},
   "outputs": [],
   "source": []
  }
 ],
 "metadata": {
  "kernelspec": {
   "display_name": ".venv",
   "language": "python",
   "name": "python3"
  },
  "language_info": {
   "codemirror_mode": {
    "name": "ipython",
    "version": 3
   },
   "file_extension": ".py",
   "mimetype": "text/x-python",
   "name": "python",
   "nbconvert_exporter": "python",
   "pygments_lexer": "ipython3",
   "version": "3.11.12"
  }
 },
 "nbformat": 4,
 "nbformat_minor": 5
}
